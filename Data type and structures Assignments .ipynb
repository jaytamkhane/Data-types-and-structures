{
 "cells": [
  {
   "cell_type": "code",
   "execution_count": null,
   "id": "b3330857-779f-4532-88ca-2b67413f9ccf",
   "metadata": {},
   "outputs": [],
   "source": [
    "# Data type and structures Assignments"
   ]
  },
  {
   "cell_type": "raw",
   "id": "86123f5a-5c19-43a0-b0c5-32401d26b9ad",
   "metadata": {},
   "source": [
    "Practical Questions"
   ]
  },
  {
   "cell_type": "code",
   "execution_count": 23,
   "id": "d18c5b23-5a5e-47d2-b6ae-e88c4f5fdf51",
   "metadata": {},
   "outputs": [
    {
     "name": "stdout",
     "output_type": "stream",
     "text": [
      "Jaykumar\n"
     ]
    }
   ],
   "source": [
    "# 1) Write a code to create a string with your name and print it.\n",
    "a = \"Jaykumar\"\n",
    "print(a)"
   ]
  },
  {
   "cell_type": "code",
   "execution_count": 24,
   "id": "97a553f2-092c-4305-a7e5-3bec1bbc5ea8",
   "metadata": {},
   "outputs": [
    {
     "data": {
      "text/plain": [
       "11"
      ]
     },
     "execution_count": 24,
     "metadata": {},
     "output_type": "execute_result"
    }
   ],
   "source": [
    "#  2) Write a code to find the length of the string \"Hello World\".\n",
    "a = \"Hello World\"\n",
    "len(a)"
   ]
  },
  {
   "cell_type": "code",
   "execution_count": 22,
   "id": "21efcfca-10b3-4c0b-8919-2c6d913664ab",
   "metadata": {},
   "outputs": [
    {
     "name": "stdout",
     "output_type": "stream",
     "text": [
      "Sliced text: Pyt\n"
     ]
    }
   ],
   "source": [
    "# 3) Write a code to slice the first 3 characters from the string \"Python Programming\".\n",
    "text = \"Python Programming\"\n",
    "sliced_text = text[:3] # Slicing the first 3 characters\n",
    "print(\"Sliced text:\", sliced_text)"
   ]
  },
  {
   "cell_type": "code",
   "execution_count": 21,
   "id": "41f8d013-5e11-49f6-8d4b-db6306eb1c7a",
   "metadata": {},
   "outputs": [
    {
     "data": {
      "text/plain": [
       "'HELLO'"
      ]
     },
     "execution_count": 21,
     "metadata": {},
     "output_type": "execute_result"
    }
   ],
   "source": [
    "# 4) Write a code to convert the string \"hello\" to uppercase\n",
    "string =  \"hello\"\n",
    "string.upper()"
   ]
  },
  {
   "cell_type": "code",
   "execution_count": 25,
   "id": "cb520b4f-7502-4b5f-9bb1-1819698b4a96",
   "metadata": {},
   "outputs": [
    {
     "name": "stdout",
     "output_type": "stream",
     "text": [
      "Updated a: I like orange\n"
     ]
    }
   ],
   "source": [
    "# 5) Write a code to replace the word \"apple\" with \"orange\" in the string \"I like apple\".\n",
    "a = \"I like apple\"\n",
    "updated_a = a.replace(\"apple\", \"orange\")\n",
    "print(\"Updated a:\", updated_a)"
   ]
  },
  {
   "cell_type": "code",
   "execution_count": 13,
   "id": "b095b7c1-1218-43ad-b8c9-90235b8fe2e5",
   "metadata": {},
   "outputs": [
    {
     "name": "stdout",
     "output_type": "stream",
     "text": [
      "[1, 2, 3, 4, 5]\n"
     ]
    }
   ],
   "source": [
    "# 6) Write a code to create a list with numbers 1 to 5 and print it.\n",
    "list_1 = [1, 2, 3, 4, 5]\n",
    "print(list_1)"
   ]
  },
  {
   "cell_type": "code",
   "execution_count": 16,
   "id": "88bc4551-2882-4ead-af51-a430c558627c",
   "metadata": {},
   "outputs": [
    {
     "name": "stdout",
     "output_type": "stream",
     "text": [
      "Updated list: [1, 2, 3, 4, 10]\n"
     ]
    }
   ],
   "source": [
    "# 7) Write a code to append the number 10 to the list [1, 2, 3, 4].\n",
    "numbers = [1, 2, 3, 4]\n",
    "numbers.append(10)\n",
    "print(\"Updated list:\", numbers)"
   ]
  },
  {
   "cell_type": "code",
   "execution_count": 20,
   "id": "1b70d9bd-84c1-445f-89b7-cce58cd5716f",
   "metadata": {},
   "outputs": [
    {
     "name": "stdout",
     "output_type": "stream",
     "text": [
      "updated list: [1, 2, 4, 5]\n"
     ]
    }
   ],
   "source": [
    "# 8)  Write a code to remove the number 3 from the list [1, 2, 3, 4, 5].\n",
    "numbers = [1, 2, 3, 4, 5]\n",
    "numbers.remove(3)\n",
    "print(\"updated list:\", numbers)"
   ]
  },
  {
   "cell_type": "code",
   "execution_count": 26,
   "id": "8d25322b-660c-414e-a5ac-cb262c7098ef",
   "metadata": {},
   "outputs": [
    {
     "data": {
      "text/plain": [
       "'b'"
      ]
     },
     "execution_count": 26,
     "metadata": {},
     "output_type": "execute_result"
    }
   ],
   "source": [
    "# 9) Write a code to access the second element in the list ['a', 'b', 'c', 'd']\n",
    "variables = ['a', 'b', 'c', 'd']\n",
    "variables[1] # accessing the second element from the list"
   ]
  },
  {
   "cell_type": "code",
   "execution_count": 34,
   "id": "f7208444-0175-4b97-83b4-ea13a2ad0348",
   "metadata": {},
   "outputs": [
    {
     "name": "stdout",
     "output_type": "stream",
     "text": [
      "Reverse : [10, 20, 30, 40, 50]\n"
     ]
    }
   ],
   "source": [
    "# 10)  Write a code to reverse the list [10, 20, 30, 40, 50].\n",
    "numbers = [10, 20, 30, 40, 50]\n",
    "numbers[::-1] # Reversing the list\n",
    "print(\"Reverse :\", numbers)"
   ]
  },
  {
   "cell_type": "code",
   "execution_count": 35,
   "id": "838464f3-44ee-4822-b40a-dc1b4f892d74",
   "metadata": {},
   "outputs": [
    {
     "name": "stdout",
     "output_type": "stream",
     "text": [
      "Tuple: (10, 20, 30)\n"
     ]
    }
   ],
   "source": [
    "# 11) Write a code to create a tuple with the elements 10, 20, 30 and print it.\n",
    "my_tuple = (10, 20, 30)\n",
    "print(\"Tuple:\", my_tuple)"
   ]
  },
  {
   "cell_type": "code",
   "execution_count": 40,
   "id": "efe86362-4431-45d2-91c4-da1033a46c10",
   "metadata": {},
   "outputs": [
    {
     "name": "stdout",
     "output_type": "stream",
     "text": [
      "first element: apple\n"
     ]
    }
   ],
   "source": [
    "# 12) Write a code to access the first element of the tuple ('apple', 'banana', 'cherry').\n",
    "my_tuple = (\"apple\", \"banana\", \"cherry\")\n",
    "a = my_tuple[0]\n",
    "print(\"first element:\", a)"
   ]
  },
  {
   "cell_type": "code",
   "execution_count": 42,
   "id": "7c72930f-a683-4da1-97c5-9bc8d72bfbca",
   "metadata": {},
   "outputs": [
    {
     "data": {
      "text/plain": [
       "3"
      ]
     },
     "execution_count": 42,
     "metadata": {},
     "output_type": "execute_result"
    }
   ],
   "source": [
    "# 13) Write a code to count how many times the number 2 appears in the tuple (1, 2, 3, 2, 4, 2).\n",
    "numbers = (1, 2, 3, 2, 4, 2)\n",
    "numbers.count(2) #counting no 2"
   ]
  },
  {
   "cell_type": "code",
   "execution_count": 45,
   "id": "274bdb00-a926-421a-a5fc-8646f8bc20dd",
   "metadata": {},
   "outputs": [
    {
     "data": {
      "text/plain": [
       "1"
      ]
     },
     "execution_count": 45,
     "metadata": {},
     "output_type": "execute_result"
    }
   ],
   "source": [
    "# 14) Write a code to find the index of the element \"cat\" in the tuple ('dog', 'cat', 'rabbit').\n",
    "tuple_1 = ('dog', 'cat', 'rabbit')\n",
    "tuple_1.index('cat') # index of cat"
   ]
  },
  {
   "cell_type": "code",
   "execution_count": 46,
   "id": "acbe2464-fab1-467d-a32b-5952af1af741",
   "metadata": {},
   "outputs": [
    {
     "name": "stdout",
     "output_type": "stream",
     "text": [
      "Is 'banana' in the tuple? True\n"
     ]
    }
   ],
   "source": [
    "# 15) Write a code to check if the element \"banana\" is in the tuple ('apple', 'orange', 'banana').\n",
    "fruits = ('apple', 'orange', 'banana')\n",
    "banana_present = \"banana\" in fruits # check if the element \"banana\" is in the tuple\n",
    "print(\"Is 'banana' in the tuple?\", banana_present)"
   ]
  },
  {
   "cell_type": "code",
   "execution_count": 48,
   "id": "a999b88e-5da0-4cd0-a418-88af04aa50db",
   "metadata": {},
   "outputs": [
    {
     "name": "stdout",
     "output_type": "stream",
     "text": [
      "Set : {1, 2, 3, 4, 5}\n"
     ]
    }
   ],
   "source": [
    "# 16)  Write a code to create a set with the elements 1, 2, 3, 4, 5 and print it.\n",
    "s = {1, 2, 3, 4, 5}\n",
    "print(\"Set :\",s)"
   ]
  },
  {
   "cell_type": "code",
   "execution_count": 51,
   "id": "74ba04d9-29ce-4fef-aa37-865258b1b6a7",
   "metadata": {},
   "outputs": [
    {
     "name": "stdout",
     "output_type": "stream",
     "text": [
      "Updated set: {1, 2, 3, 4, 6}\n"
     ]
    }
   ],
   "source": [
    "# 17) Write a code to add the element 6 to the set {1, 2, 3, 4}.\n",
    "numbers = {1, 2, 3, 4}\n",
    "numbers.add(6) # Adding the element 6 to the set\n",
    "print(\"Updated set:\", numbers)"
   ]
  },
  {
   "cell_type": "code",
   "execution_count": 52,
   "id": "3e272d31-faa4-4ff5-90ef-ea4f4ad689ee",
   "metadata": {},
   "outputs": [
    {
     "name": "stdout",
     "output_type": "stream",
     "text": [
      "tuples: (10, 20, 30)\n"
     ]
    }
   ],
   "source": [
    "# 18) Write a code to create a tuple with the elements 10, 20, 30 and print it.\n",
    "my_tuple = (10, 20, 30)\n",
    "print(\"tuples:\", my_tuple)"
   ]
  },
  {
   "cell_type": "code",
   "execution_count": 53,
   "id": "a2cc188d-e1a8-493e-bf7a-cf728a6c3cee",
   "metadata": {},
   "outputs": [
    {
     "name": "stdout",
     "output_type": "stream",
     "text": [
      "first element: apple\n"
     ]
    }
   ],
   "source": [
    "# 19) Write a code to access the first element of the tuple ('apple', 'banana', 'cherry').\n",
    "fruits = ('apple', 'banana', 'cherry')\n",
    "a = fruits[0]\n",
    "print(\"first element:\", a)"
   ]
  },
  {
   "cell_type": "code",
   "execution_count": 56,
   "id": "ec91473e-7839-4892-b87b-38bbdbeec0d8",
   "metadata": {},
   "outputs": [
    {
     "name": "stdout",
     "output_type": "stream",
     "text": [
      "total times 2 = 3\n"
     ]
    }
   ],
   "source": [
    "# 20)  Write a code to count how many times the number 2 appears in the tuple (1, 2, 3, 2, 4, 2).\n",
    "numbers = (1, 2, 3, 2, 4, 2)\n",
    "a = numbers.count(2) # counting no 2\n",
    "print(\"total times 2 =\", a)"
   ]
  },
  {
   "cell_type": "code",
   "execution_count": 57,
   "id": "0bb5746c-1d5f-48e6-a549-05f9fa54da2b",
   "metadata": {},
   "outputs": [
    {
     "name": "stdout",
     "output_type": "stream",
     "text": [
      "index of 'cat': 1\n"
     ]
    }
   ],
   "source": [
    "# 21) Write a code to find the index of the element \"cat\" in the tuple ('dog', 'cat', 'rabbit').\n",
    "animals = ('dog', 'cat', 'rabbit')\n",
    "a = animals.index('cat')\n",
    "print(\"index of 'cat':\", a)"
   ]
  },
  {
   "cell_type": "code",
   "execution_count": 59,
   "id": "f46f3dcb-7014-45b1-99ac-28aca1b6ad18",
   "metadata": {},
   "outputs": [
    {
     "name": "stdout",
     "output_type": "stream",
     "text": [
      "banana is present ? True\n"
     ]
    }
   ],
   "source": [
    "# 22) Write a code to check if the element \"banana\" is in the tuple ('apple', 'orange', 'banana')\n",
    "fruits = ('apple', 'orange', 'banana')\n",
    "banana_present = 'banana' in fruits # \"banana\" is in the tuple\n",
    "print(\"banana is present ?\", banana_present)"
   ]
  },
  {
   "cell_type": "code",
   "execution_count": 60,
   "id": "053af748-74d9-40d1-856a-449aeb8131e2",
   "metadata": {},
   "outputs": [
    {
     "name": "stdout",
     "output_type": "stream",
     "text": [
      "set : {1, 2, 3, 4, 5}\n"
     ]
    }
   ],
   "source": [
    "# 23)  Write a code to create a set with the elements 1, 2, 3, 4, 5 and print it.\n",
    "numbers = {1, 2, 3, 4, 5}\n",
    "print(\"set :\", numbers)"
   ]
  },
  {
   "cell_type": "code",
   "execution_count": 63,
   "id": "7d2f3431-87d5-486e-bbe7-6ef31d3f9bd0",
   "metadata": {},
   "outputs": [
    {
     "name": "stdout",
     "output_type": "stream",
     "text": [
      "updated set: {1, 2, 3, 4, 6}\n"
     ]
    }
   ],
   "source": [
    "# 24) Write a code to add the element 6 to the set {1, 2, 3, 4}.\n",
    "numbers = {1, 2, 3, 4}\n",
    "numbers.add(6) # adding element '6'\n",
    "print(\"updated set:\", numbers)"
   ]
  },
  {
   "cell_type": "code",
   "execution_count": null,
   "id": "748bb057-5c84-4786-8f77-ac828acc6ac6",
   "metadata": {},
   "outputs": [],
   "source": []
  },
  {
   "cell_type": "code",
   "execution_count": null,
   "id": "58f75106-0a57-4822-935d-33a8ca6c6737",
   "metadata": {},
   "outputs": [],
   "source": []
  },
  {
   "cell_type": "code",
   "execution_count": null,
   "id": "4c869ada-5af1-4f7f-a437-9c2e6b5cada4",
   "metadata": {},
   "outputs": [],
   "source": []
  },
  {
   "cell_type": "code",
   "execution_count": null,
   "id": "b8f94a4e-7775-4a8b-ab41-578dec0de06a",
   "metadata": {},
   "outputs": [],
   "source": []
  }
 ],
 "metadata": {
  "kernelspec": {
   "display_name": "Python 3 (ipykernel)",
   "language": "python",
   "name": "python3"
  },
  "language_info": {
   "codemirror_mode": {
    "name": "ipython",
    "version": 3
   },
   "file_extension": ".py",
   "mimetype": "text/x-python",
   "name": "python",
   "nbconvert_exporter": "python",
   "pygments_lexer": "ipython3",
   "version": "3.12.7"
  }
 },
 "nbformat": 4,
 "nbformat_minor": 5
}
